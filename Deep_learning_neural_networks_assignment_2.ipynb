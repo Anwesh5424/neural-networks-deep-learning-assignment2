{
  "nbformat": 4,
  "nbformat_minor": 0,
  "metadata": {
    "colab": {
      "provenance": []
    },
    "kernelspec": {
      "name": "python3",
      "display_name": "Python 3"
    },
    "language_info": {
      "name": "python"
    }
  },
  "cells": [
    {
      "cell_type": "markdown",
      "source": [
        "1. Display Full Name using string concatenation"
      ],
      "metadata": {
        "id": "C1zNBJzOS_RX"
      }
    },
    {
      "cell_type": "code",
      "execution_count": 8,
      "metadata": {
        "colab": {
          "base_uri": "https://localhost:8080/"
        },
        "id": "cLUXFSFVSyfM",
        "outputId": "7b8e0239-8481-4269-f3b5-b86eaa770426"
      },
      "outputs": [
        {
          "output_type": "stream",
          "name": "stdout",
          "text": [
            "Enter First Name=Anwesh\n",
            "Enter Last Name=Ammula\n",
            "Anwesh Ammula\n"
          ]
        }
      ],
      "source": [
        "first_name=input(\"Enter First Name=\")\n",
        "last_name=input(\"Enter Last Name=\")\n",
        "\n",
        "def Full_name(str1,str2):\n",
        "  print(str1+\" \"+str2)\n",
        "Full_name(first_name,last_name)"
      ]
    },
    {
      "cell_type": "markdown",
      "source": [
        "1. Display alternative letters in the sentence\n"
      ],
      "metadata": {
        "id": "-kgf2fF0TFVn"
      }
    },
    {
      "cell_type": "code",
      "source": [
        "def string_alternative(str):\n",
        "  res=str[::2]\n",
        "  print(res)\n",
        "\n",
        "def main():\n",
        "  s=input(\"Enter Word=\")\n",
        "  string_alternative(s)\n",
        "if __name__==\"__main__\":\n",
        "  main()"
      ],
      "metadata": {
        "colab": {
          "base_uri": "https://localhost:8080/"
        },
        "id": "D9zS4o8QTQMh",
        "outputId": "68d15b2c-88fd-49d6-e4e0-9ac57b0f8296"
      },
      "execution_count": 9,
      "outputs": [
        {
          "output_type": "stream",
          "name": "stdout",
          "text": [
            "Enter Word=neural networks\n",
            "nua ewrs\n"
          ]
        }
      ]
    },
    {
      "cell_type": "markdown",
      "source": [
        "2. Save word occurence and count in New text file"
      ],
      "metadata": {
        "id": "q6U-9RgiTO9x"
      }
    },
    {
      "cell_type": "code",
      "source": [
        "file1=open(r\"/content/input.txt\",\"r\")\n",
        "count={}\n",
        "for i1 in file1:\n",
        "  val=i1.strip().split()\n",
        "  for j1 in val:\n",
        "    if j1 in count:\n",
        "      count[j1]+=1\n",
        "    else:\n",
        "      count[j1]=1\n",
        "file1.close()\n",
        "\n",
        "file2=open(\"output.txt\",\"w\")\n",
        "for i2,j2 in count.items():\n",
        "  file2.write(i2+\":\"+str(j2)+\"\\n\")\n",
        "  print(i2,j2)\n",
        "file2.close()"
      ],
      "metadata": {
        "colab": {
          "base_uri": "https://localhost:8080/"
        },
        "id": "KgppdQ7fTZm2",
        "outputId": "4cd212b9-3876-4a05-9be0-879625adf094"
      },
      "execution_count": 6,
      "outputs": [
        {
          "output_type": "stream",
          "name": "stdout",
          "text": [
            "Python 1\n",
            "Course 2\n",
            "Deep 1\n",
            "Learning 1\n"
          ]
        }
      ]
    },
    {
      "cell_type": "markdown",
      "source": [
        "3. Write a program, which reads heights (inches.) of customers into a list and convert these\n",
        "heights to centimeters in a separate list using:\n",
        "\n",
        "1) Nested Interactive loop.\n",
        "\n",
        "2) List comprehensions\n",
        "\n",
        "---\n",
        "\n"
      ],
      "metadata": {
        "id": "XtCtgJ9HTdzn"
      }
    },
    {
      "cell_type": "code",
      "source": [
        "list1=[]\n",
        "list2=[]\n",
        "num=int(input(\"Enter number of customers=\"))\n",
        "for n in  range(0,num):\n",
        "  n=int(input())\n",
        "  list1.append(n)\n",
        "print(list1)\n",
        "\n",
        "for i in list1:\n",
        "  i=i/2.54\n",
        "  j=round(i,2)\n",
        "  list2.append(j)\n",
        "print(list2)"
      ],
      "metadata": {
        "colab": {
          "base_uri": "https://localhost:8080/"
        },
        "id": "iYeQpIYGTf3P",
        "outputId": "71c98286-f8f8-405b-f6c4-32ccdb0a46f0"
      },
      "execution_count": 5,
      "outputs": [
        {
          "output_type": "stream",
          "name": "stdout",
          "text": [
            "Enter number of customers=4\n",
            "150\n",
            "155\n",
            "145\n",
            "148\n",
            "[150, 155, 145, 148]\n",
            "[59.06, 61.02, 57.09, 58.27]\n"
          ]
        }
      ]
    }
  ]
}